{
 "cells": [
  {
   "cell_type": "markdown",
   "metadata": {},
   "source": [
    "## Search space autogeneration\n",
    "\n",
    "This notebook describes how to generate search space automaticaly from **EfficientNet-V2 Small** model.\n",
    "\n",
    "### Main chapters of this notebook:\n",
    "1. Setup the environment\n",
    "1. Prepare dataset and create dataloaders\n",
    "1. Generate model with search variants and move it into search space\n",
    "1. Check pretrain, search and tune phases"
   ]
  },
  {
   "cell_type": "markdown",
   "metadata": {},
   "source": [
    "## Setup the environment\n",
    "First, let's set up the environment and make some common imports."
   ]
  },
  {
   "cell_type": "code",
   "execution_count": null,
   "metadata": {},
   "outputs": [],
   "source": [
    "import os\n",
    "\n",
    "os.environ['CUDA_DEVICE_ORDER'] = 'PCI_BUS_ID'\n",
    "# You may need to change this variable to match free GPU index\n",
    "os.environ['CUDA_VISIBLE_DEVICES'] = '0'"
   ]
  },
  {
   "cell_type": "code",
   "execution_count": null,
   "metadata": {},
   "outputs": [],
   "source": [
    "from pathlib import Path\n",
    "\n",
    "import torch\n",
    "import torch.nn as nn\n",
    "\n",
    "from torch.optim import SGD\n",
    "from torch.optim.lr_scheduler import CosineAnnealingLR\n",
    "from torch_optimizer import RAdam\n",
    "\n",
    "from enot.autogeneration.search_variants_from_model import generate_pruned_search_variants_model\n",
    "from enot.latency import min_latency\n",
    "from enot.latency import max_latency\n",
    "from enot.latency import best_arch_latency\n",
    "from enot.models import SearchSpaceModel\n",
    "from enot.optimize import EnotPretrainOptimizer\n",
    "from enot.optimize import EnotSearchOptimizer\n",
    "\n",
    "from tutorial_utils.train import accuracy\n",
    "from tutorial_utils.train import WarmupScheduler\n",
    "\n",
    "from tutorial_utils.checkpoints import download_autogen_pretrain_checkpoint\n",
    "from tutorial_utils.checkpoints import download_autogen_search_checkpoint\n",
    "from tutorial_utils.dataset import create_imagenette_dataloaders\n",
    "from tutorial_utils.phases import tutorial_pretrain_loop\n",
    "from tutorial_utils.phases import tutorial_search_loop\n",
    "from tutorial_utils.phases import tutorial_train_loop\n",
    "\n",
    "from timm.models.factory import create_model"
   ]
  },
  {
   "cell_type": "markdown",
   "metadata": {},
   "source": [
    "### In the following cell we setup all necessary dirs\n",
    "\n",
    "* `ENOT_HOME_DIR` - ENOT framework home directory\n",
    "* `ENOT_DATASETS_DIR` - root directory for datasets (imagenette2, ...)\n",
    "* `PROJECT_DIR` - project directory to save training logs, checkpoints, ..."
   ]
  },
  {
   "cell_type": "code",
   "execution_count": null,
   "metadata": {},
   "outputs": [],
   "source": [
    "ENOT_HOME_DIR = Path.home() / '.enot'\n",
    "ENOT_DATASETS_DIR = ENOT_HOME_DIR / 'datasets'\n",
    "PROJECT_DIR = ENOT_HOME_DIR / 'search_space_autogeneration'\n",
    "\n",
    "ENOT_HOME_DIR.mkdir(exist_ok=True)\n",
    "ENOT_DATASETS_DIR.mkdir(exist_ok=True)\n",
    "PROJECT_DIR.mkdir(exist_ok=True)"
   ]
  },
  {
   "cell_type": "markdown",
   "metadata": {},
   "source": [
    "## Prepare dataset and create dataloaders"
   ]
  },
  {
   "cell_type": "code",
   "execution_count": null,
   "metadata": {},
   "outputs": [],
   "source": [
    "dataloaders = create_imagenette_dataloaders(\n",
    "    dataset_root_dir=ENOT_DATASETS_DIR, \n",
    "    project_dir=PROJECT_DIR,\n",
    "    input_size=(224, 224),\n",
    "    batch_size=32,\n",
    ")"
   ]
  },
  {
   "cell_type": "markdown",
   "metadata": {},
   "source": [
    "## Generate model with search variants and move it into search space\n",
    "\n",
    "**IMPORTANT:**<br>\n",
    "<span style=\"color:red\">**Weights of source model are used for initialization of search variants parameters, so pretrained models are necessary for good results.**</span>.\n",
    "\n",
    "In some cases it is necessary to specify modules that should remain unchanged while generating model.\n",
    "\n",
    "There are two options:\n",
    "1. Specify particular module.\n",
    "1. Specify module type: in this case all modules with specified type remain unchanged.\n",
    "\n",
    "To do this, pass particular modules or types of modules that need to remain unchaged as parameter in `generate_pruned_search_variant_model`."
   ]
  },
  {
   "cell_type": "code",
   "execution_count": null,
   "metadata": {},
   "outputs": [],
   "source": [
    "my_model = create_model('efficientnetv2_s', pretrained=False)\n",
    "classifier = my_model.get_classifier()\n",
    "my_model.classifier = nn.Linear(\n",
    "    in_features=classifier.in_features, \n",
    "    out_features=10, \n",
    "    bias=True,\n",
    ")\n",
    "my_model.eval()\n",
    "\n",
    "some_excluded_block = my_model.blocks[4][1]\n",
    "generated_model = generate_pruned_search_variants_model(\n",
    "    my_model, \n",
    "    width_multipliers=(0.0, 0.25, 0.5, 0.75, 1.0),\n",
    "    excluded_modules=[some_excluded_block], # Leave some_excluded_block unchanged.\n",
    ")\n",
    "# move model to search space\n",
    "search_space = SearchSpaceModel(generated_model).cuda()"
   ]
  },
  {
   "cell_type": "markdown",
   "metadata": {},
   "source": [
    "## Check pretrain, search and tune phases\n",
    "\n",
    "In this tutorial we use the same pretrain/search/train loops as in \"Tutorial - getting started\".\n",
    "\n",
    "**IMPORTANT:**<br>\n",
    "We set `N_EPOCHS`= 3 in this example to make tutorial execution faster. This is not enough for good pretrain quality, and you should set `N_EPOCHS`>= 100 if you want to achieve good results."
   ]
  },
  {
   "cell_type": "code",
   "execution_count": null,
   "metadata": {
    "scrolled": false
   },
   "outputs": [],
   "source": [
    "N_EPOCHS = 3\n",
    "N_WARMUP_EPOCHS = 1\n",
    "len_train = len(dataloaders['pretrain_train_dataloader'])\n",
    "\n",
    "optimizer = SGD(params=search_space.model_parameters(), lr=0.06, momentum=0.9, weight_decay=1e-4)\n",
    "enot_optimizer = EnotPretrainOptimizer(search_space=search_space, optimizer=optimizer)\n",
    "scheduler = CosineAnnealingLR(optimizer, T_max=len_train*N_EPOCHS, eta_min=1e-8)\n",
    "scheduler = WarmupScheduler(scheduler, warmup_steps=len_train*N_WARMUP_EPOCHS)\n",
    "loss_function = nn.CrossEntropyLoss().cuda()\n",
    "\n",
    "tutorial_pretrain_loop(\n",
    "    epochs=N_EPOCHS,\n",
    "    search_space=search_space,\n",
    "    enot_optimizer=enot_optimizer,\n",
    "    metric_function=accuracy,\n",
    "    loss_function=loss_function,\n",
    "    train_loader=dataloaders['pretrain_train_dataloader'],\n",
    "    validation_loader=dataloaders['pretrain_validation_dataloader'],\n",
    "    scheduler=scheduler,\n",
    ")"
   ]
  },
  {
   "cell_type": "code",
   "execution_count": null,
   "metadata": {
    "scrolled": true
   },
   "outputs": [],
   "source": [
    "optimizer = RAdam(search_space.architecture_parameters(), lr=0.01)\n",
    "enot_optimizer = EnotSearchOptimizer(search_space=search_space, optimizer=optimizer)\n",
    "\n",
    "tutorial_search_loop(\n",
    "    epochs=5,\n",
    "    search_space=search_space,\n",
    "    enot_optimizer=enot_optimizer,\n",
    "    metric_function=accuracy,\n",
    "    loss_function=loss_function,\n",
    "    train_loader=dataloaders['search_train_dataloader'],\n",
    "    validation_loader=dataloaders['search_validation_dataloader'],\n",
    "    latency_loss_weight=1e-3,\n",
    "    latency_type='mmac.thop',\n",
    "    scheduler=None,\n",
    ")"
   ]
  },
  {
   "cell_type": "code",
   "execution_count": null,
   "metadata": {},
   "outputs": [],
   "source": [
    "# get regular model with the best architecture\n",
    "best_model = search_space.get_network_with_best_arch().cuda()"
   ]
  },
  {
   "cell_type": "code",
   "execution_count": null,
   "metadata": {
    "scrolled": true
   },
   "outputs": [],
   "source": [
    "optimizer = RAdam(best_model.parameters(), lr=1e-3, weight_decay=1e-4)\n",
    "\n",
    "tutorial_train_loop(\n",
    "    epochs=5,\n",
    "    model=best_model,\n",
    "    optimizer=optimizer,\n",
    "    metric_function=accuracy,\n",
    "    loss_function=loss_function,\n",
    "    train_loader=dataloaders['tune_train_dataloader'],\n",
    "    validation_loader=dataloaders['tune_validation_dataloader'],\n",
    "    scheduler=None,\n",
    ")"
   ]
  },
  {
   "cell_type": "code",
   "execution_count": null,
   "metadata": {},
   "outputs": [],
   "source": []
  }
 ],
 "metadata": {
  "kernelspec": {
   "display_name": "Python 3",
   "language": "python",
   "name": "python3"
  },
  "language_info": {
   "codemirror_mode": {
    "name": "ipython",
    "version": 3
   },
   "file_extension": ".py",
   "mimetype": "text/x-python",
   "name": "python",
   "nbconvert_exporter": "python",
   "pygments_lexer": "ipython3",
   "version": "3.6.13"
  },
  "pycharm": {
   "stem_cell": {
    "cell_type": "raw",
    "metadata": {
     "collapsed": false
    },
    "source": []
   }
  }
 },
 "nbformat": 4,
 "nbformat_minor": 4
}
