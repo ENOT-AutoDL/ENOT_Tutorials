{
 "cells": [
  {
   "cell_type": "markdown",
   "metadata": {},
   "source": [
    "## Additional starting points for OptimalPruningLabelSelector\n",
    "\n",
    "This notebook demonstrates how to add additional starting points to `OptimalPruningLabelSelector`.\n",
    "\n",
    "### Main chapters of this notebook:\n",
    "1. Setup the environment\n",
    "1. Prepare latency calculation function\n",
    "1. Prepare starting points and starting points generator\n",
    "1. Create label selector with additional starting points"
   ]
  },
  {
   "cell_type": "code",
   "execution_count": null,
   "metadata": {},
   "outputs": [],
   "source": [
    "import os\n",
    "\n",
    "os.environ['CUDA_DEVICE_ORDER'] = 'PCI_BUS_ID'\n",
    "# You may need to uncomment and change this variable to match free GPU index\n",
    "# os.environ['CUDA_VISIBLE_DEVICES'] = '0'"
   ]
  },
  {
   "cell_type": "code",
   "execution_count": null,
   "metadata": {},
   "outputs": [],
   "source": [
    "# Common:\n",
    "import torch\n",
    "from fvcore.nn import FlopCountAnalysis\n",
    "\n",
    "# Pruning:\n",
    "from enot.pruning import GlobalPruningLabelSelectorByChannels\n",
    "from enot.pruning import KnapsackPruningLabelSelector\n",
    "from enot.pruning import OptimalPruningLabelSelector\n",
    "from enot.pruning.label_selector.starting_points_generator import LabelSelectorsStartingPointsGenerator"
   ]
  },
  {
   "cell_type": "markdown",
   "metadata": {},
   "source": [
    "### Prepare latency calculation function"
   ]
  },
  {
   "cell_type": "code",
   "execution_count": null,
   "metadata": {},
   "outputs": [],
   "source": [
    "TARGET_LATENCY = 100\n",
    "\n",
    "\n",
    "def mmac_calculation_function(model):\n",
    "    inputs, _ = next(iter(train_dataloader))\n",
    "\n",
    "    fca = FlopCountAnalysis(\n",
    "        model=model.eval(),\n",
    "        inputs=inputs,\n",
    "    )\n",
    "    fca.unsupported_ops_warnings(False)\n",
    "    fca.uncalled_modules_warnings(False)\n",
    "\n",
    "    return fca.total() / 1e6"
   ]
  },
  {
   "cell_type": "markdown",
   "metadata": {},
   "source": [
    "### Prepare starting points and starting points generator"
   ]
  },
  {
   "cell_type": "code",
   "execution_count": null,
   "metadata": {},
   "outputs": [],
   "source": [
    "# prepare label selectors for starting points\n",
    "starting_point_label_selector_0 = GlobalPruningLabelSelectorByChannels(n_channels_or_ratio=0.5)\n",
    "starting_point_label_selector_1 = GlobalPruningLabelSelectorByChannels(n_channels_or_ratio=0.3)\n",
    "starting_point_label_selector_2 = KnapsackPruningLabelSelector(\n",
    "    target_latency=TARGET_LATENCY,\n",
    "    latency_calculation_function=mmac_calculation_function,\n",
    ")\n",
    "\n",
    "# add all starting points to generator\n",
    "additional_starting_points_generator = LabelSelectorsStartingPointsGenerator(\n",
    "    starting_point_label_selector_0,\n",
    "    starting_point_label_selector_1,\n",
    "    starting_point_label_selector_2,\n",
    ")"
   ]
  },
  {
   "cell_type": "markdown",
   "metadata": {},
   "source": [
    "### Create label selector with additional starting points"
   ]
  },
  {
   "cell_type": "code",
   "execution_count": null,
   "metadata": {},
   "outputs": [],
   "source": [
    "label_selector = OptimalPruningLabelSelector(\n",
    "    target_latency=TARGET_LATENCY,\n",
    "    latency_calculation_function=mmac_calculation_function,\n",
    "    additional_starting_points_generator=additional_starting_points_generator,\n",
    "    n_search_steps=200,\n",
    ")"
   ]
  }
 ],
 "metadata": {
  "execution": {
   "timeout": 3000
  },
  "kernelspec": {
   "display_name": "Python 3 (ipykernel)",
   "language": "python",
   "name": "python3"
  },
  "language_info": {
   "codemirror_mode": {
    "name": "ipython",
    "version": 3
   },
   "file_extension": ".py",
   "mimetype": "text/x-python",
   "name": "python",
   "nbconvert_exporter": "python",
   "pygments_lexer": "ipython3",
   "version": "3.10.12"
  }
 },
 "nbformat": 4,
 "nbformat_minor": 4
}
