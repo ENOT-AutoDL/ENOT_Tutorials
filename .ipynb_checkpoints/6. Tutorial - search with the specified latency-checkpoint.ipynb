{
 "cells": [
  {
   "cell_type": "markdown",
   "metadata": {},
   "source": [
    "## Search architecture with latency strictly lower than the specified value\n",
    "\n",
    "This notebook describes how to search only architectures with latency strictly lower than the specified value.\n",
    "\n",
    "### Main chapters of this notebook:\n",
    "1. Setup the environment\n",
    "1. Prepare dataset and create dataloaders\n",
    "1. Build search space\n",
    "1. Test constrained search procedure"
   ]
  },
  {
   "cell_type": "markdown",
   "metadata": {},
   "source": [
    "## Setup the environment\n",
    "\n",
    "First, let's set up the environment and make some common imports."
   ]
  },
  {
   "cell_type": "code",
   "execution_count": null,
   "metadata": {},
   "outputs": [],
   "source": [
    "import os\n",
    "\n",
    "os.environ['CUDA_DEVICE_ORDER'] = 'PCI_BUS_ID'\n",
    "# You may need to change this variable to match free GPU index\n",
    "os.environ['CUDA_VISIBLE_DEVICES'] = '0'"
   ]
  },
  {
   "cell_type": "code",
   "execution_count": null,
   "metadata": {},
   "outputs": [],
   "source": [
    "from pathlib import Path\n",
    "\n",
    "import torch\n",
    "import torch.nn as nn\n",
    "import numpy as np\n",
    "from torch_optimizer import RAdam\n",
    "from torchvision.models.mobilenet import mobilenet_v2\n",
    "from enot.autogeneration.search_variants_from_model import generate_pruned_search_variants_model\n",
    "from enot.latency import current_latency\n",
    "from enot.latency import initialize_latency\n",
    "from enot.latency import min_latency\n",
    "from enot.latency import max_latency\n",
    "from enot.latency import mean_latency\n",
    "from enot.models import SearchSpaceModel\n",
    "from enot.models.mobilenet import build_mobilenet\n",
    "from enot.optimize import EnotFixedLatencySearchOptimizer\n",
    "\n",
    "from tutorial_utils.checkpoints import download_autogen_pretrain_checkpoint\n",
    "from tutorial_utils.dataset import create_imagenette_dataloaders\n",
    "from tutorial_utils.phases import tutorial_train_loop\n",
    "from tutorial_utils.train import accuracy"
   ]
  },
  {
   "cell_type": "markdown",
   "metadata": {},
   "source": [
    "## Prepare dataset and create dataloaders"
   ]
  },
  {
   "cell_type": "code",
   "execution_count": null,
   "metadata": {},
   "outputs": [],
   "source": [
    "ENOT_HOME_DIR = Path.home() / '.enot'\n",
    "ENOT_DATASETS_DIR = ENOT_HOME_DIR / 'datasets'\n",
    "PROJECT_DIR = ENOT_HOME_DIR / 'search_with_the_specified_latency'\n",
    "\n",
    "ENOT_HOME_DIR.mkdir(exist_ok=True)\n",
    "ENOT_DATASETS_DIR.mkdir(exist_ok=True)\n",
    "PROJECT_DIR.mkdir(exist_ok=True)"
   ]
  },
  {
   "cell_type": "code",
   "execution_count": null,
   "metadata": {},
   "outputs": [],
   "source": [
    "dataloaders = create_imagenette_dataloaders(\n",
    "    dataset_root_dir=ENOT_DATASETS_DIR, \n",
    "    project_dir=PROJECT_DIR,\n",
    "    input_size=(224, 224),\n",
    "    batch_size=32,\n",
    ")"
   ]
  },
  {
   "cell_type": "markdown",
   "metadata": {},
   "source": [
    "## Build search space"
   ]
  },
  {
   "cell_type": "code",
   "execution_count": null,
   "metadata": {},
   "outputs": [],
   "source": [
    "my_model = mobilenet_v2(pretrained=True)\n",
    "\n",
    "classifier = my_model.classifier[1]\n",
    "my_model.classifier = nn.Linear(\n",
    "    in_features=classifier.in_features, \n",
    "    out_features=10, \n",
    "    bias=True,\n",
    ")\n",
    "my_model.eval()\n",
    "\n",
    "first_block = my_model.features[0] # First MobileNet block in model.\n",
    "generated_model = generate_pruned_search_variants_model(\n",
    "    my_model, \n",
    "    width_multipliers=(1.0, 0.75, 0.5, 0.25, 0.0),\n",
    "    excluded_modules=[first_block], # Leave first MobileNet block unchanged.\n",
    ")\n",
    "# move model to search space\n",
    "search_space = SearchSpaceModel(generated_model).cuda()"
   ]
  },
  {
   "cell_type": "markdown",
   "metadata": {},
   "source": [
    "#### In this example, we will use <span style=\"color:red\">pre-trained</span> search space from \"Tutorial - search space autogeneration\". You can find the detailed description of pretrain procedure in \"Tutorial - getting started\"."
   ]
  },
  {
   "cell_type": "code",
   "execution_count": null,
   "metadata": {},
   "outputs": [],
   "source": [
    "checkpoint_path = PROJECT_DIR / 'autogen_pretrain_checkpoint.pth'\n",
    "download_autogen_pretrain_checkpoint(checkpoint_path)\n",
    "search_space.load_state_dict(\n",
    "    torch.load(checkpoint_path)['model'],\n",
    ")"
   ]
  },
  {
   "cell_type": "markdown",
   "metadata": {},
   "source": [
    "## Test constrained search procedure\n",
    "\n",
    "In this tutorial we use the same tune loop as in \"Tutorial - getting started\".\n",
    "\n",
    "To use latency optimization:\n",
    "\n",
    "1. Initialize search space latency with `initialize_latency` function.\n",
    "1. Use `EnotFixedLatencySearchOptimizer` instead of the `EnotSearchOptimizer`.\n",
    "1. Pass `max_latency_value` parameter to the enot optimizer constructor. This value restricts the maximal latency of the generated models during the search process.\n",
    "1. **Apply `modify_loss` function** from the `EnotFixedLatencySearchOptimizer` to your target loss. An example can be seen below."
   ]
  },
  {
   "cell_type": "markdown",
   "metadata": {},
   "source": [
    "#### Check minimal and maximal latency in the search space to select reasonable latency constraint"
   ]
  },
  {
   "cell_type": "code",
   "execution_count": null,
   "metadata": {},
   "outputs": [],
   "source": [
    "latency_type = 'mmac.thop'\n",
    "\n",
    "sample_inputs = torch.zeros((1, 3, 224, 224)).cuda()\n",
    "latency_container = initialize_latency(latency_type, search_space, (sample_inputs, ))\n",
    "\n",
    "print(f'Constant latency = {latency_container.constant_latency:.1f}')\n",
    "print(\n",
    "    f'Min, mean and max latencies of search space: '\n",
    "    f'{min_latency(latency_container):.1f}, '\n",
    "    f'{mean_latency(latency_container):.1f}, '\n",
    "    f'{max_latency(latency_container):.1f}'\n",
    ")"
   ]
  },
  {
   "cell_type": "markdown",
   "metadata": {},
   "source": [
    "#### Run constrained search process"
   ]
  },
  {
   "cell_type": "code",
   "execution_count": null,
   "metadata": {
    "scrolled": true
   },
   "outputs": [],
   "source": [
    "N_EPOCHS = 30\n",
    "\n",
    "max_latency_value = 140.0  # 140.0 is in range of search space latency distribution\n",
    "\n",
    "# Optimizing `search_space.architecture_parameters()`.\n",
    "optimizer = RAdam(search_space.architecture_parameters(), lr=0.02)\n",
    "\n",
    "# Using `EnotFixedLatencySearchOptimizer` as a default optimizer.\n",
    "enot_optimizer = EnotFixedLatencySearchOptimizer(\n",
    "    search_space,\n",
    "    optimizer,\n",
    "    max_latency_value=max_latency_value,\n",
    ")\n",
    "\n",
    "metric_function = accuracy\n",
    "loss_function = nn.CrossEntropyLoss().cuda()\n",
    "\n",
    "train_loader = dataloaders['search_train_dataloader']\n",
    "validation_loader = dataloaders['search_validation_dataloader']\n",
    "\n",
    "for epoch in range(N_EPOCHS):\n",
    "\n",
    "    print(f'EPOCH #{epoch}')\n",
    "\n",
    "    search_space.train()\n",
    "    train_metrics_acc = {\n",
    "        'loss': 0.0,\n",
    "        'accuracy': 0.0,\n",
    "        'n': 0,\n",
    "    }\n",
    "    for inputs, labels in train_loader:\n",
    "\n",
    "        enot_optimizer.zero_grad()\n",
    "\n",
    "        # Wrapping model step and backward with closure.\n",
    "        def closure():\n",
    "            pred_labels = search_space(inputs)\n",
    "            batch_loss = loss_function(pred_labels, labels)\n",
    "\n",
    "            # Apply loss modification function.\n",
    "            modified_loss = enot_optimizer.modify_loss(batch_loss)\n",
    "\n",
    "            modified_loss.backward()\n",
    "            batch_metric = metric_function(pred_labels, labels)\n",
    "\n",
    "            train_metrics_acc['loss'] += batch_loss.item()\n",
    "            train_metrics_acc['accuracy'] += batch_metric.item()\n",
    "            train_metrics_acc['n'] += 1\n",
    "\n",
    "        enot_optimizer.step(closure)\n",
    "\n",
    "    train_loss = train_metrics_acc['loss'] / train_metrics_acc['n']\n",
    "    train_accuracy = train_metrics_acc['accuracy'] / train_metrics_acc['n']\n",
    "    arch_probabilities = np.array(search_space.architecture_probabilities)\n",
    "\n",
    "    print('train metrics:')\n",
    "    print('  loss:', train_loss)\n",
    "    print('  accuracy:', train_accuracy)\n",
    "    print('  arch_probabilities:')\n",
    "    print(arch_probabilities)\n",
    "\n",
    "    search_space.eval()\n",
    "\n",
    "    # Selecting the best architecture for validation.\n",
    "    enot_optimizer.prepare_validation_model()\n",
    "\n",
    "    validation_loss = 0\n",
    "    validation_accuracy = 0\n",
    "    for inputs, labels in validation_loader:\n",
    "        pred_labels = search_space(inputs)\n",
    "        batch_loss = loss_function(pred_labels, labels)\n",
    "        batch_metric = metric_function(pred_labels, labels)\n",
    "\n",
    "        validation_loss += batch_loss.item()\n",
    "        validation_accuracy += batch_metric.item()\n",
    "\n",
    "    n = len(validation_loader)\n",
    "    validation_loss /= n\n",
    "    validation_accuracy /= n\n",
    "\n",
    "    print('validation metrics:')\n",
    "    print('  loss:', validation_loss)\n",
    "    print('  accuracy:', validation_accuracy)\n",
    "    if search_space.latency_type is not None:\n",
    "        # Getting latency of the best architecture.\n",
    "        latency = current_latency(search_space)\n",
    "        print('  latency:', latency)\n",
    "\n",
    "    print()"
   ]
  },
  {
   "cell_type": "code",
   "execution_count": null,
   "metadata": {},
   "outputs": [],
   "source": [
    "best_arch = search_space.forward_architecture\n",
    "\n",
    "print(f'Found architecuture: {best_arch}')\n",
    "print(\n",
    "    f'It\\'s latency is {current_latency(search_space):.1f}, '\n",
    "    f'which satisfies the specified latency constraint (<={max_latency_value:.1f})'\n",
    ")"
   ]
  },
  {
   "cell_type": "code",
   "execution_count": null,
   "metadata": {},
   "outputs": [],
   "source": [
    "# Get regular model with the best architecture.\n",
    "best_model = search_space.get_network_by_indexes(best_arch).cuda()"
   ]
  },
  {
   "cell_type": "markdown",
   "metadata": {},
   "source": [
    "### Tune found architecture"
   ]
  },
  {
   "cell_type": "code",
   "execution_count": null,
   "metadata": {},
   "outputs": [],
   "source": [
    "optimizer = RAdam(best_model.parameters(), lr=1e-3, weight_decay=1e-4)\n",
    "\n",
    "tutorial_train_loop(\n",
    "    epochs=5,\n",
    "    model=best_model,\n",
    "    optimizer=optimizer,\n",
    "    metric_function=accuracy,\n",
    "    loss_function=loss_function,\n",
    "    train_loader=dataloaders['tune_train_dataloader'],\n",
    "    validation_loader=dataloaders['tune_validation_dataloader'],\n",
    "    scheduler=None,\n",
    ")"
   ]
  },
  {
   "cell_type": "code",
   "execution_count": null,
   "metadata": {},
   "outputs": [],
   "source": []
  }
 ],
 "metadata": {
  "kernelspec": {
   "display_name": "Python 3",
   "language": "python",
   "name": "python3"
  },
  "language_info": {
   "codemirror_mode": {
    "name": "ipython",
    "version": 3
   },
   "file_extension": ".py",
   "mimetype": "text/x-python",
   "name": "python",
   "nbconvert_exporter": "python",
   "pygments_lexer": "ipython3",
   "version": "3.7.6"
  }
 },
 "nbformat": 4,
 "nbformat_minor": 4
}
