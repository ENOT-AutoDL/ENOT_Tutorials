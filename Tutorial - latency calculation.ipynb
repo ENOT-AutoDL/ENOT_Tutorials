{
 "cells": [
  {
   "cell_type": "markdown",
   "id": "right-memphis",
   "metadata": {},
   "source": [
    "## Latency calculation with ENOT\n",
    "\n",
    "This notebook describes how to calculate latency using ENOT framework.\n",
    "\n",
    "### Main chapters of this notebook:\n",
    "1. Initialize latency of search space (`SearchSpaceModel`)\n",
    "1. Calculate latency of arbitrary model/module"
   ]
  },
  {
   "cell_type": "markdown",
   "id": "individual-norfolk",
   "metadata": {},
   "source": [
    "## Initialize latency of search space (`SearchSpaceModel`)"
   ]
  },
  {
   "cell_type": "markdown",
   "id": "european-mandate",
   "metadata": {},
   "source": [
    "To initialize latency of `SearchSpaceModel` import `SearchSpaceModel` from `enot.models` and `initialize_latency` function from `enot.utils.latency`:"
   ]
  },
  {
   "cell_type": "code",
   "execution_count": null,
   "id": "contained-prime",
   "metadata": {},
   "outputs": [],
   "source": [
    "from enot.models import SearchSpaceModel\n",
    "from enot.utils.latency import initialize_latency"
   ]
  },
  {
   "cell_type": "markdown",
   "id": "faced-joint",
   "metadata": {},
   "source": [
    "`initialize_latency` has the following signature:\n",
    "\n",
    "```python\n",
    "def initialize_latency(\n",
    "    latency_type: str,\n",
    "    search_space: SearchSpaceModel,\n",
    "    inputs: Tuple[torch.Tensor, ...],\n",
    "    **keyword_inputs\n",
    ") -> Tuple[float, float, float, float]:\n",
    "```\n",
    "\n",
    "`latency_type (str)` — type of the latency to be initialized in `search_space`.\n",
    "Now ENOT supports only multiply-accumulate (MAC) latency type.\n",
    "For MAC latency initialization use `latency_type='mmac'`.\n",
    "\n",
    "For most modules ENOT has built-in MAC calculator, but for unsupported modules it is possible to use third-party calculators:\n",
    "\n",
    "- to use **PyTorch-OpCounter (thop)** third-party MAC calculator pass `latency_type='mmac.thop'`\n",
    "- to use **PyTorch-estimate-flops (pthflops)** third-party MAC calculator pass `latency_type='mmac.pthflops'`\n",
    "\n",
    "Note: third-party calculators complement built-in calculator, i.e. if built-in calculator knows how to calculate latency of module, then third-party calculator will not be used for this module.\n",
    "\n",
    "`search_space` — `SearchSpaceModel` for latency calculation.\n",
    "\n",
    "        \n",
    "`inputs: Tuple[torch.Tensor, ...]` — `search_space` input.\n",
    "\n",
    "Also *input keyword arguments* can be passed.\n",
    "\n",
    "\n",
    "`initialize_latency` returns four values in the following order:\n",
    "- latency of constant part of `search_space`\n",
    "- sum of minimum latencies over all containers + constant part: $\\sum\\limits_{c \\in C} \\min\\limits_{i \\in P_c} \\text{latency}(i) + K$\n",
    "- sum of mean latencies over all containers + constant part: $\\sum\\limits_{c \\in C} \\frac{1}{|P_c|}\\sum\\limits_{i \\in P_c} \\text{latency}(i) + K$\n",
    "- sum of maximum latencies over all containers + constant part: $\\sum\\limits_{c \\in C} \\max\\limits_{i \\in P_c} \\text{latency}(i) + K$\n",
    "\n",
    "where $C$ — set of all `SearchableOperationsContainer` in `search_space`, $P_c$ — operations in container $c$, $|P_c|$ - number of operations in container $c$, $K$ - latency of constant part of `search_space`.\n",
    "\n",
    "\n",
    "Skip *return values* if these statistics are not needed."
   ]
  },
  {
   "cell_type": "markdown",
   "id": "matched-exclusion",
   "metadata": {},
   "source": [
    "For example, to calculate MAC-latency of search space from `Tutorial - getting started`:"
   ]
  },
  {
   "cell_type": "code",
   "execution_count": null,
   "id": "raised-drilling",
   "metadata": {},
   "outputs": [],
   "source": [
    "import torch\n",
    "from enot.models.mobilenet import build_mobilenet"
   ]
  },
  {
   "cell_type": "code",
   "execution_count": null,
   "id": "primary-shuttle",
   "metadata": {},
   "outputs": [],
   "source": [
    "model = build_mobilenet(\n",
    "    search_ops=['MIB_k=3_t=6', 'MIB_k=5_t=6', 'MIB_k=7_t=6'],\n",
    "    num_classes=10,\n",
    "    blocks_out_channels=[24, 32, 64, 96, 160, 320],\n",
    "    blocks_count=[2, 2, 2, 1, 2, 1],\n",
    "    blocks_stride=[2, 2, 2, 1, 2, 1],\n",
    ")\n",
    "search_space = SearchSpaceModel(model).cpu()\n",
    "inputs = torch.ones(1, 3, 244, 224)"
   ]
  },
  {
   "cell_type": "markdown",
   "id": "curious-photography",
   "metadata": {},
   "source": [
    "Now MAC-latency of `search_space` can be initialize:"
   ]
  },
  {
   "cell_type": "code",
   "execution_count": null,
   "id": "handy-ghana",
   "metadata": {},
   "outputs": [],
   "source": [
    "initialize_latency('mmac', search_space, (inputs, ));  # ; suppress output of statistics."
   ]
  },
  {
   "cell_type": "markdown",
   "id": "developed-volunteer",
   "metadata": {},
   "source": [
    "Or we can enable **PyTorch-OpCounter** third-party calculator and print statistics:"
   ]
  },
  {
   "cell_type": "code",
   "execution_count": null,
   "id": "secondary-sender",
   "metadata": {
    "scrolled": true
   },
   "outputs": [],
   "source": [
    "lconst, lmin, lmean, lmax = initialize_latency('mmac.thop', search_space, (inputs, ))\n",
    "print(f'Constant latency = {lconst}\\nMin, mean and max latencies of search space: {lmin}, {lmean}, {lmax}')"
   ]
  },
  {
   "cell_type": "markdown",
   "id": "cultural-dividend",
   "metadata": {},
   "source": [
    "To get latency of `search_space`:"
   ]
  },
  {
   "cell_type": "code",
   "execution_count": null,
   "id": "informal-profit",
   "metadata": {},
   "outputs": [],
   "source": [
    "latency = search_space.forward_latency.item()\n",
    "print(f'Latency = {latency}')"
   ]
  },
  {
   "cell_type": "markdown",
   "id": "frozen-popularity",
   "metadata": {},
   "source": [
    "## Calculate latency of arbitrary model"
   ]
  },
  {
   "cell_type": "markdown",
   "id": "flush-management",
   "metadata": {},
   "source": [
    "To calculate latency of arbitary model/module import `MacCalculatorThop` or `MacCalculatorPthflops` from `enot.utils.latency`"
   ]
  },
  {
   "cell_type": "code",
   "execution_count": null,
   "id": "sixth-maldives",
   "metadata": {},
   "outputs": [],
   "source": [
    "from enot.utils.latency import MacCalculatorThop\n",
    "from enot.utils.latency import MacCalculatorPthflops"
   ]
  },
  {
   "cell_type": "markdown",
   "id": "capital-stranger",
   "metadata": {},
   "source": [
    "Latency calculators have only one function with the following signature:\n",
    "\n",
    "```python\n",
    "def calculate(\n",
    "    model: nn.Module,\n",
    "    inputs: Tuple[torch.Tensor, ...],\n",
    "    ignore_modules: Optional[list] = None,\n",
    "    **options\n",
    ") -> float:\n",
    "```\n",
    "\n",
    "So you can pass model, inputs and list of modules that you want to ignore in calculation as well as some additional options.\n",
    "\n",
    "For example (model and inputs from previous example are used):"
   ]
  },
  {
   "cell_type": "code",
   "execution_count": null,
   "id": "increased-experiment",
   "metadata": {},
   "outputs": [],
   "source": [
    "MacCalculatorThop().calculate(model, inputs)"
   ]
  },
  {
   "cell_type": "code",
   "execution_count": null,
   "id": "early-vault",
   "metadata": {},
   "outputs": [],
   "source": [
    "MacCalculatorPthflops().calculate(model, inputs)"
   ]
  }
 ],
 "metadata": {
  "kernelspec": {
   "display_name": "Python 3",
   "language": "python",
   "name": "python3"
  },
  "language_info": {
   "codemirror_mode": {
    "name": "ipython",
    "version": 3
   },
   "file_extension": ".py",
   "mimetype": "text/x-python",
   "name": "python",
   "nbconvert_exporter": "python",
   "pygments_lexer": "ipython3",
   "version": "3.9.2"
  }
 },
 "nbformat": 4,
 "nbformat_minor": 5
}
