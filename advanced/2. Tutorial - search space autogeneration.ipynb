{
 "cells": [
  {
   "cell_type": "markdown",
   "metadata": {},
   "source": [
    "## Search space autogeneration\n",
    "\n",
    "This notebook describes how to generate search space automaticaly from your model.\n",
    "\n",
    "### Main chapters of this notebook:\n",
    "1. Setup the environment\n",
    "1. Prepare dataset and create dataloaders\n",
    "1. Generate model with search variants and move it into search space\n",
    "1. Check pretrain, search and tune phases"
   ]
  },
  {
   "cell_type": "markdown",
   "metadata": {},
   "source": [
    "## Setup the environment\n",
    "First, let's set up the environment and make some common imports."
   ]
  },
  {
   "cell_type": "code",
   "execution_count": 1,
   "metadata": {},
   "outputs": [],
   "source": [
    "import os\n",
    "\n",
    "os.environ['CUDA_DEVICE_ORDER'] = 'PCI_BUS_ID'\n",
    "# You may need to uncomment and change this variable to match free GPU index\n",
    "# os.environ['CUDA_VISIBLE_DEVICES'] = '0'"
   ]
  },
  {
   "cell_type": "code",
   "execution_count": 2,
   "metadata": {},
   "outputs": [],
   "source": [
    "import sys\n",
    "\n",
    "sys.path.append('../')\n",
    "\n",
    "from pathlib import Path\n",
    "\n",
    "import torch\n",
    "import torch.nn as nn\n",
    "\n",
    "from torch.optim import SGD\n",
    "from torch.optim.lr_scheduler import CosineAnnealingLR\n",
    "from torch_optimizer import RAdam\n",
    "from torchvision.models.mobilenet import mobilenet_v2\n",
    "\n",
    "from enot.autogeneration import TransformationParameters\n",
    "from enot.autogeneration import generate_pruned_search_variants_model\n",
    "from enot.latency import min_latency\n",
    "from enot.latency import max_latency\n",
    "from enot.latency import best_arch_latency\n",
    "from enot.models import SearchSpaceModel\n",
    "from enot.optimize import PretrainOptimizer\n",
    "from enot.optimize import SearchOptimizer\n",
    "\n",
    "from tutorial_utils.train import accuracy\n",
    "from tutorial_utils.train import WarmupScheduler\n",
    "\n",
    "from tutorial_utils.checkpoints import download_autogen_pretrain_checkpoint\n",
    "from tutorial_utils.checkpoints import download_autogen_search_checkpoint\n",
    "from tutorial_utils.dataset import create_imagenette_dataloaders\n",
    "from tutorial_utils.phases import tutorial_pretrain_loop\n",
    "from tutorial_utils.phases import tutorial_search_loop\n",
    "from tutorial_utils.phases import tutorial_train_loop"
   ]
  },
  {
   "cell_type": "markdown",
   "metadata": {},
   "source": [
    "### In the following cell we setup all necessary dirs\n",
    "\n",
    "* `HOME_DIR` - experiments home directory\n",
    "* `DATASETS_DIR` - root directory for datasets (imagenette2, ...)\n",
    "* `PROJECT_DIR` - project directory to save training logs, checkpoints, ..."
   ]
  },
  {
   "cell_type": "code",
   "execution_count": 3,
   "metadata": {},
   "outputs": [],
   "source": [
    "HOME_DIR = Path.home() / '.optimization_experiments'\n",
    "DATASETS_DIR = HOME_DIR / 'datasets'\n",
    "PROJECT_DIR = HOME_DIR / 'search_space_autogeneration'\n",
    "\n",
    "HOME_DIR.mkdir(exist_ok=True)\n",
    "DATASETS_DIR.mkdir(exist_ok=True)\n",
    "PROJECT_DIR.mkdir(exist_ok=True)"
   ]
  },
  {
   "cell_type": "markdown",
   "metadata": {},
   "source": [
    "## Prepare dataset and create dataloaders"
   ]
  },
  {
   "cell_type": "code",
   "execution_count": 4,
   "metadata": {},
   "outputs": [],
   "source": [
    "dataloaders = create_imagenette_dataloaders(\n",
    "    dataset_root_dir=DATASETS_DIR,\n",
    "    project_dir=PROJECT_DIR,\n",
    "    input_size=(224, 224),\n",
    "    batch_size=32,\n",
    ")"
   ]
  },
  {
   "cell_type": "markdown",
   "metadata": {},
   "source": [
    "## Generate model with search variants and move it into search space\n",
    "\n",
    "**IMPORTANT:**<br>\n",
    "<span style=\"color:red\">**Weights of source model are used for initialization of search variants parameters, so pretrained models are necessary for good results.**</span>\n",
    "\n",
    "In some cases it is necessary to specify modules that should remain unchanged while generating model.\n",
    "\n",
    "There are two options:\n",
    "1. Specify particular module.\n",
    "1. Specify module type: in this case all modules with specified type remain unchanged.\n",
    "\n",
    "To do this, pass particular modules or types of modules that need to remain unchaged as parameter in `generate_pruned_search_variant_model`.\n",
    "__Auto generation supports models with MobileNet-lilke, ResNet-like and EfficientNet-like blocks.__"
   ]
  },
  {
   "cell_type": "code",
   "execution_count": 5,
   "metadata": {},
   "outputs": [],
   "source": [
    "my_model = mobilenet_v2(pretrained=True)\n",
    "\n",
    "classifier = my_model.classifier[1]\n",
    "my_model.classifier = nn.Linear(\n",
    "    in_features=classifier.in_features,\n",
    "    out_features=10,\n",
    "    bias=True,\n",
    ")\n",
    "my_model.eval()\n",
    "\n",
    "first_block = my_model.features[0]  # First MobileNet block in model.\n",
    "generated_model = generate_pruned_search_variants_model(\n",
    "    my_model,\n",
    "    search_variant_descriptors=(\n",
    "        TransformationParameters(width_mult=1.0),\n",
    "        TransformationParameters(width_mult=0.75),\n",
    "        TransformationParameters(width_mult=0.5),\n",
    "        TransformationParameters(width_mult=0.25),\n",
    "        TransformationParameters(width_mult=0.0),\n",
    "    ),\n",
    "    excluded_modules=[first_block],  # Leave first MobileNet block unchanged.\n",
    ")\n",
    "# move model to search space\n",
    "search_space = SearchSpaceModel(generated_model).cuda()"
   ]
  },
  {
   "cell_type": "markdown",
   "metadata": {},
   "source": [
    "## Check pretrain, search and tune phases\n",
    "\n",
    "In this tutorial we use the same pretrain/search/train loops as in <span style=\"color:green;white-space:nowrap\">***1. Tutorial -getting started***</span>.\n",
    "\n",
    "**IMPORTANT:**<br>\n",
    "We set `N_EPOCHS`= 3 in this example to make tutorial execution faster. This is not enough for good pretrain quality, and you should set `N_EPOCHS`>= 100 if you want to achieve good results."
   ]
  },
  {
   "cell_type": "code",
   "execution_count": 6,
   "metadata": {
    "scrolled": true
   },
   "outputs": [
    {
     "name": "stdout",
     "output_type": "stream",
     "text": [
      "EPOCH #0\n",
      "train metrics:\n",
      "  loss: 2.2176924376792098\n",
      "  accuracy: 22.498522454119744\n",
      "validation metrics:\n",
      "  loss: 1.9676591907778094\n",
      "  accuracy: 31.199596774193548\n",
      "\n",
      "EPOCH #1\n",
      "train metrics:\n",
      "  loss: 1.7299164647751666\n",
      "  accuracy: 38.27186760435713\n",
      "validation metrics:\n",
      "  loss: 1.5475376594451167\n",
      "  accuracy: 44.506048387096776\n",
      "\n",
      "EPOCH #2\n",
      "train metrics:\n",
      "  loss: 1.5071947071400094\n",
      "  accuracy: 47.17730496021027\n",
      "validation metrics:\n",
      "  loss: 1.4714765789047364\n",
      "  accuracy: 49.707661290322584\n",
      "\n"
     ]
    }
   ],
   "source": [
    "N_EPOCHS = 3\n",
    "N_WARMUP_EPOCHS = 1\n",
    "\n",
    "len_train = len(dataloaders['pretrain_train_dataloader'])\n",
    "\n",
    "optimizer = SGD(params=search_space.model_parameters(), lr=0.06, momentum=0.9, weight_decay=1e-4)\n",
    "pretrain_optimizer = PretrainOptimizer(search_space=search_space, optimizer=optimizer)\n",
    "scheduler = CosineAnnealingLR(optimizer, T_max=len_train * N_EPOCHS, eta_min=1e-8)\n",
    "scheduler = WarmupScheduler(scheduler, warmup_steps=len_train * N_WARMUP_EPOCHS)\n",
    "loss_function = nn.CrossEntropyLoss().cuda()\n",
    "\n",
    "tutorial_pretrain_loop(\n",
    "    epochs=N_EPOCHS,\n",
    "    search_space=search_space,\n",
    "    pretrain_optimizer=pretrain_optimizer,\n",
    "    metric_function=accuracy,\n",
    "    loss_function=loss_function,\n",
    "    train_loader=dataloaders['pretrain_train_dataloader'],\n",
    "    validation_loader=dataloaders['pretrain_validation_dataloader'],\n",
    "    scheduler=scheduler,\n",
    ")"
   ]
  },
  {
   "cell_type": "code",
   "execution_count": 7,
   "metadata": {},
   "outputs": [
    {
     "data": {
      "text/plain": [
       "<All keys matched successfully>"
      ]
     },
     "execution_count": 7,
     "metadata": {},
     "output_type": "execute_result"
    }
   ],
   "source": [
    "# We pretrained search space for 3 epochs in this example. In this cell, we are downloading\n",
    "# search space checkpoint, pretrained for 100 epochs (for demonstration purposes).\n",
    "checkpoint_path = PROJECT_DIR / 'autogen_pretrain_checkpoint.pth'\n",
    "download_autogen_pretrain_checkpoint(checkpoint_path)\n",
    "\n",
    "search_space.load_state_dict(\n",
    "    torch.load(checkpoint_path)['model'],\n",
    ")"
   ]
  },
  {
   "cell_type": "code",
   "execution_count": 8,
   "metadata": {
    "scrolled": true
   },
   "outputs": [
    {
     "name": "stdout",
     "output_type": "stream",
     "text": [
      "EPOCH #0\n",
      "Constant latency = 45.285376\n",
      "Min, mean and max latencies of search space: 63.90067199999999, 189.95344640000002, 326.28352\n",
      "train metrics:\n",
      "  loss: 0.6127585386556964\n",
      "  accuracy: 85.08064516129032\n",
      "  arch_probabilities:\n",
      "[[0.20089108 0.20087154 0.20187883 0.20055097 0.19580762]\n",
      " [0.20160313 0.20231332 0.20198369 0.198722   0.19537789]\n",
      " [0.20059489 0.20188448 0.20136295 0.19719078 0.19896689]\n",
      " [0.20133255 0.20041639 0.20190012 0.20176904 0.19458196]\n",
      " [0.20032638 0.19950524 0.20264046 0.20056172 0.19696628]\n",
      " [0.20205148 0.20270073 0.20033981 0.19938368 0.19552428]\n",
      " [0.19575156 0.20178169 0.20107716 0.20342435 0.1979653 ]\n",
      " [0.20020384 0.19985494 0.2008554  0.20161468 0.1974711 ]\n",
      " [0.19818392 0.19836472 0.20272982 0.19929095 0.2014305 ]\n",
      " [0.19980751 0.20230387 0.19910848 0.20043467 0.19834547]\n",
      " [0.19716325 0.20121427 0.20244043 0.2015328  0.19764929]\n",
      " [0.19798389 0.19844064 0.20307718 0.19980898 0.20068923]\n",
      " [0.19647868 0.20328866 0.20106438 0.2008176  0.19835068]\n",
      " [0.20007047 0.20005387 0.20068753 0.20131126 0.1978769 ]\n",
      " [0.19997859 0.19975848 0.19918437 0.20278712 0.19829139]\n",
      " [0.20140687 0.20143157 0.20082255 0.19856079 0.1977782 ]]\n",
      "validation metrics:\n",
      "  loss: 0.16981179457751192\n",
      "  accuracy: 94.60685483870968\n",
      "  latency: 200.21161644418333\n",
      "\n",
      "EPOCH #1\n",
      "train metrics:\n",
      "  loss: 0.5898918913256738\n",
      "  accuracy: 86.24450142152848\n",
      "  arch_probabilities:\n",
      "[[0.20514485 0.20138223 0.20394318 0.2020171  0.18751258]\n",
      " [0.20434733 0.20424816 0.20692028 0.19978787 0.18469638]\n",
      " [0.1989537  0.20611034 0.20526022 0.20050983 0.18916589]\n",
      " [0.20402408 0.19589162 0.20384979 0.20740354 0.18883097]\n",
      " [0.19904663 0.20156413 0.20754814 0.19539379 0.19644736]\n",
      " [0.20368642 0.2009478  0.20789595 0.201992   0.1854779 ]\n",
      " [0.19348294 0.20377348 0.20274292 0.20299597 0.19700475]\n",
      " [0.20131312 0.19742559 0.20478137 0.20088477 0.1955951 ]\n",
      " [0.19786339 0.19571723 0.20515352 0.20413288 0.19713293]\n",
      " [0.19374473 0.2011602  0.20274368 0.20301488 0.19933653]\n",
      " [0.19453451 0.20105588 0.2033888  0.20490171 0.19611911]\n",
      " [0.18860072 0.19929354 0.2037976  0.2041434  0.20416482]\n",
      " [0.19600971 0.20443946 0.20421924 0.20187156 0.19346002]\n",
      " [0.19953324 0.19341223 0.20644668 0.20690246 0.19370538]\n",
      " [0.19936952 0.2016589  0.19888252 0.20752011 0.19256891]\n",
      " [0.20317905 0.20354593 0.20376875 0.19647208 0.19303419]]\n",
      "validation metrics:\n",
      "  loss: 0.18320514333073892\n",
      "  accuracy: 94.0524193548387\n",
      "  latency: 185.07179193456267\n",
      "\n",
      "EPOCH #2\n",
      "train metrics:\n",
      "  loss: 0.5291986090521659\n",
      "  accuracy: 87.15175948604461\n",
      "  arch_probabilities:\n",
      "[[0.20842387 0.20085019 0.20562132 0.2060987  0.17900595]\n",
      " [0.20793131 0.20791467 0.20741692 0.20031862 0.17641841]\n",
      " [0.19814993 0.20477389 0.2097906  0.20526837 0.1820172 ]\n",
      " [0.20485802 0.20006792 0.20686899 0.20324348 0.18496159]\n",
      " [0.20115353 0.19997732 0.21023054 0.19874646 0.18989214]\n",
      " [0.20043446 0.20787045 0.2091306  0.20103921 0.18152532]\n",
      " [0.19357522 0.20786792 0.20407844 0.20291062 0.19156785]\n",
      " [0.20147984 0.19747381 0.2048988  0.2052976  0.19085   ]\n",
      " [0.19757546 0.19681902 0.20855334 0.20660158 0.1904506 ]\n",
      " [0.19617368 0.20302865 0.20201214 0.20725498 0.19153057]\n",
      " [0.1892301  0.19796164 0.20737249 0.20788406 0.19755173]\n",
      " [0.18490054 0.19219649 0.19826381 0.21692905 0.20771009]\n",
      " [0.1936356  0.20061968 0.20964696 0.20967664 0.18642114]\n",
      " [0.19900702 0.19836685 0.20774746 0.20992792 0.18495075]\n",
      " [0.20293388 0.20052092 0.20039435 0.21306336 0.18308741]\n",
      " [0.20032257 0.20642915 0.20805773 0.19955915 0.18563141]]\n",
      "validation metrics:\n",
      "  loss: 0.16991521601354884\n",
      "  accuracy: 94.80846774193549\n",
      "  latency: 191.7185451265106\n",
      "\n"
     ]
    }
   ],
   "source": [
    "optimizer = RAdam(search_space.architecture_parameters(), lr=0.01)\n",
    "search_optimizer = SearchOptimizer(search_space=search_space, optimizer=optimizer)\n",
    "\n",
    "tutorial_search_loop(\n",
    "    epochs=3,\n",
    "    search_space=search_space,\n",
    "    search_optimizer=search_optimizer,\n",
    "    metric_function=accuracy,\n",
    "    loss_function=loss_function,\n",
    "    train_loader=dataloaders['search_train_dataloader'],\n",
    "    validation_loader=dataloaders['search_validation_dataloader'],\n",
    "    latency_loss_weight=1e-3,\n",
    "    latency_type='mmac.thop',\n",
    "    scheduler=None,\n",
    ")"
   ]
  },
  {
   "cell_type": "code",
   "execution_count": 9,
   "metadata": {},
   "outputs": [
    {
     "name": "stdout",
     "output_type": "stream",
     "text": [
      "\n",
      "minimum possible latency 63.90067203600502\n",
      "maximum possible latency 326.2835230108032\n",
      "current best architecture latency 129.7010082479248\n"
     ]
    }
   ],
   "source": [
    "checkpoint_path = PROJECT_DIR / 'autogen_search_checkpoint.pth'\n",
    "download_autogen_search_checkpoint(checkpoint_path)\n",
    "\n",
    "search_space.load_state_dict(\n",
    "    torch.load(checkpoint_path)['model'],\n",
    ")\n",
    "\n",
    "print()\n",
    "print('minimum possible latency', min_latency(search_space))\n",
    "print('maximum possible latency', max_latency(search_space))\n",
    "print('current best architecture latency', best_arch_latency(search_space))"
   ]
  },
  {
   "cell_type": "code",
   "execution_count": 10,
   "metadata": {},
   "outputs": [],
   "source": [
    "# get regular model with the best architecture\n",
    "best_model = search_space.get_network_with_best_arch().cuda()"
   ]
  },
  {
   "cell_type": "code",
   "execution_count": 11,
   "metadata": {
    "scrolled": true
   },
   "outputs": [
    {
     "name": "stdout",
     "output_type": "stream",
     "text": [
      "EPOCH #0\n",
      "train metrics:\n",
      "  loss: 0.36236336519743534\n",
      "  accuracy: 88.3835697255236\n",
      "validation metrics:\n",
      "  loss: 0.33876564657135355\n",
      "  accuracy: 89.15322580645162\n",
      "\n",
      "EPOCH #1\n",
      "train metrics:\n",
      "  loss: 0.3636938276443076\n",
      "  accuracy: 88.29343969466838\n",
      "validation metrics:\n",
      "  loss: 0.39798398498979004\n",
      "  accuracy: 87.88306451612904\n",
      "\n",
      "EPOCH #2\n",
      "train metrics:\n",
      "  loss: 0.4040970911053901\n",
      "  accuracy: 87.04639477019614\n",
      "validation metrics:\n",
      "  loss: 0.3932204434588071\n",
      "  accuracy: 87.6008064516129\n",
      "\n",
      "EPOCH #3\n",
      "train metrics:\n",
      "  loss: 0.391860035473996\n",
      "  accuracy: 87.33008273510222\n",
      "validation metrics:\n",
      "  loss: 0.3816691086357159\n",
      "  accuracy: 88.29637096774194\n",
      "\n",
      "EPOCH #4\n",
      "train metrics:\n",
      "  loss: 0.40982427628750495\n",
      "  accuracy: 86.73463355531084\n",
      "validation metrics:\n",
      "  loss: 0.40030874194757593\n",
      "  accuracy: 87.5\n",
      "\n"
     ]
    }
   ],
   "source": [
    "optimizer = RAdam(best_model.parameters(), lr=1e-3, weight_decay=1e-4)\n",
    "\n",
    "tutorial_train_loop(\n",
    "    epochs=5,\n",
    "    model=best_model,\n",
    "    optimizer=optimizer,\n",
    "    metric_function=accuracy,\n",
    "    loss_function=loss_function,\n",
    "    train_loader=dataloaders['tune_train_dataloader'],\n",
    "    validation_loader=dataloaders['tune_validation_dataloader'],\n",
    "    scheduler=None,\n",
    ")"
   ]
  },
  {
   "cell_type": "code",
   "execution_count": null,
   "metadata": {},
   "outputs": [],
   "source": []
  }
 ],
 "metadata": {
  "execution": {
   "timeout": 3000
  },
  "kernelspec": {
   "display_name": "Python 3 (ipykernel)",
   "language": "python",
   "name": "python3"
  },
  "language_info": {
   "codemirror_mode": {
    "name": "ipython",
    "version": 3
   },
   "file_extension": ".py",
   "mimetype": "text/x-python",
   "name": "python",
   "nbconvert_exporter": "python",
   "pygments_lexer": "ipython3",
   "version": "3.9.7"
  }
 },
 "nbformat": 4,
 "nbformat_minor": 4
}
